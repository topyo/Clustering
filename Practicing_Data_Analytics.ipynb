{
  "nbformat": 4,
  "nbformat_minor": 0,
  "metadata": {
    "colab": {
      "name": "Practicing Data Analytics ",
      "provenance": [],
      "authorship_tag": "ABX9TyMCAjlMH6oVMGnZoaHX+ukd",
      "include_colab_link": true
    },
    "kernelspec": {
      "name": "python3",
      "display_name": "Python 3"
    }
  },
  "cells": [
    {
      "cell_type": "markdown",
      "metadata": {
        "id": "view-in-github",
        "colab_type": "text"
      },
      "source": [
        "<a href=\"https://colab.research.google.com/github/topyo/Clustering/blob/main/Practicing_Data_Analytics.ipynb\" target=\"_parent\"><img src=\"https://colab.research.google.com/assets/colab-badge.svg\" alt=\"Open In Colab\"/></a>"
      ]
    },
    {
      "cell_type": "code",
      "metadata": {
        "colab": {
          "base_uri": "https://localhost:8080/"
        },
        "id": "AszQnmJnr9PL",
        "outputId": "e50d332f-48e9-4228-b447-9bb659e2cb31"
      },
      "source": [
        "#Start by importing the  libraries\r\n",
        "!pip install pandas\r\n"
      ],
      "execution_count": 3,
      "outputs": [
        {
          "output_type": "stream",
          "text": [
            "Requirement already satisfied: pandas in /usr/local/lib/python3.7/dist-packages (1.1.5)\n",
            "Requirement already satisfied: numpy>=1.15.4 in /usr/local/lib/python3.7/dist-packages (from pandas) (1.19.5)\n",
            "Requirement already satisfied: pytz>=2017.2 in /usr/local/lib/python3.7/dist-packages (from pandas) (2018.9)\n",
            "Requirement already satisfied: python-dateutil>=2.7.3 in /usr/local/lib/python3.7/dist-packages (from pandas) (2.8.1)\n",
            "Requirement already satisfied: six>=1.5 in /usr/local/lib/python3.7/dist-packages (from python-dateutil>=2.7.3->pandas) (1.15.0)\n"
          ],
          "name": "stdout"
        }
      ]
    },
    {
      "cell_type": "code",
      "metadata": {
        "id": "56kp2mD6yFNc"
      },
      "source": [
        "import pandas as pd"
      ],
      "execution_count": 5,
      "outputs": []
    },
    {
      "cell_type": "markdown",
      "metadata": {
        "id": "hp1ZYzlxxwsb"
      },
      "source": [
        "**Load the CSV file into a variable - greenhouse_data**\r\n",
        "**bold text**"
      ]
    },
    {
      "cell_type": "code",
      "metadata": {
        "id": "FOVOft60xkNd"
      },
      "source": [
        "#Load the dataset using the https://raw.githubusercontent.com/dphi-official/Datasets/master/UNdata_Greenhouse_Gas.csv\r\n",
        "\r\n",
        "url= 'https://raw.githubusercontent.com/dphi-official/Datasets/master/UNdata_Greenhouse_Gas.csv'\r\n",
        "greenhouse_data = pd.read_csv('https://raw.githubusercontent.com/dphi-official/Datasets/master/UNdata_Greenhouse_Gas.csv')"
      ],
      "execution_count": 8,
      "outputs": []
    },
    {
      "cell_type": "markdown",
      "metadata": {
        "id": "eiHq12DrxmdE"
      },
      "source": [
        "**Use the description function to understand how the data looks**\r\n"
      ]
    },
    {
      "cell_type": "code",
      "metadata": {
        "colab": {
          "base_uri": "https://localhost:8080/"
        },
        "id": "x-zEnmztA-oY",
        "outputId": "20325093-2468-4a0a-ac5c-870d0acbbc70"
      },
      "source": [
        "greenhouse_data.info()"
      ],
      "execution_count": 10,
      "outputs": [
        {
          "output_type": "stream",
          "text": [
            "<class 'pandas.core.frame.DataFrame'>\n",
            "RangeIndex: 1204 entries, 0 to 1203\n",
            "Data columns (total 3 columns):\n",
            " #   Column           Non-Null Count  Dtype  \n",
            "---  ------           --------------  -----  \n",
            " 0   Country or Area  1204 non-null   object \n",
            " 1   Year             1204 non-null   int64  \n",
            " 2   Value            1204 non-null   float64\n",
            "dtypes: float64(1), int64(1), object(1)\n",
            "memory usage: 28.3+ KB\n"
          ],
          "name": "stdout"
        }
      ]
    },
    {
      "cell_type": "markdown",
      "metadata": {
        "id": "7UMJdz-5BIuJ"
      },
      "source": [
        "##The Above output shows there are no missing values in the dataset\r\n"
      ]
    },
    {
      "cell_type": "markdown",
      "metadata": {
        "id": "uWb9sfAkB6PY"
      },
      "source": [
        " **Print its first 10 rows**"
      ]
    },
    {
      "cell_type": "code",
      "metadata": {
        "colab": {
          "base_uri": "https://localhost:8080/",
          "height": 359
        },
        "id": "fRw2qtds0ju-",
        "outputId": "3f30a27a-895a-4fa7-c121-e650c6be9bc6"
      },
      "source": [
        "greenhouse_data.head(10)\r\n"
      ],
      "execution_count": 11,
      "outputs": [
        {
          "output_type": "execute_result",
          "data": {
            "text/html": [
              "<div>\n",
              "<style scoped>\n",
              "    .dataframe tbody tr th:only-of-type {\n",
              "        vertical-align: middle;\n",
              "    }\n",
              "\n",
              "    .dataframe tbody tr th {\n",
              "        vertical-align: top;\n",
              "    }\n",
              "\n",
              "    .dataframe thead th {\n",
              "        text-align: right;\n",
              "    }\n",
              "</style>\n",
              "<table border=\"1\" class=\"dataframe\">\n",
              "  <thead>\n",
              "    <tr style=\"text-align: right;\">\n",
              "      <th></th>\n",
              "      <th>Country or Area</th>\n",
              "      <th>Year</th>\n",
              "      <th>Value</th>\n",
              "    </tr>\n",
              "  </thead>\n",
              "  <tbody>\n",
              "    <tr>\n",
              "      <th>0</th>\n",
              "      <td>Australia</td>\n",
              "      <td>2017</td>\n",
              "      <td>554126.561371</td>\n",
              "    </tr>\n",
              "    <tr>\n",
              "      <th>1</th>\n",
              "      <td>Australia</td>\n",
              "      <td>2016</td>\n",
              "      <td>546771.759767</td>\n",
              "    </tr>\n",
              "    <tr>\n",
              "      <th>2</th>\n",
              "      <td>Australia</td>\n",
              "      <td>2015</td>\n",
              "      <td>535173.674335</td>\n",
              "    </tr>\n",
              "    <tr>\n",
              "      <th>3</th>\n",
              "      <td>Australia</td>\n",
              "      <td>2014</td>\n",
              "      <td>524957.101167</td>\n",
              "    </tr>\n",
              "    <tr>\n",
              "      <th>4</th>\n",
              "      <td>Australia</td>\n",
              "      <td>2013</td>\n",
              "      <td>530433.518839</td>\n",
              "    </tr>\n",
              "    <tr>\n",
              "      <th>5</th>\n",
              "      <td>Australia</td>\n",
              "      <td>2012</td>\n",
              "      <td>540615.864772</td>\n",
              "    </tr>\n",
              "    <tr>\n",
              "      <th>6</th>\n",
              "      <td>Australia</td>\n",
              "      <td>2011</td>\n",
              "      <td>538280.611349</td>\n",
              "    </tr>\n",
              "    <tr>\n",
              "      <th>7</th>\n",
              "      <td>Australia</td>\n",
              "      <td>2010</td>\n",
              "      <td>537275.249361</td>\n",
              "    </tr>\n",
              "    <tr>\n",
              "      <th>8</th>\n",
              "      <td>Australia</td>\n",
              "      <td>2009</td>\n",
              "      <td>540913.370344</td>\n",
              "    </tr>\n",
              "    <tr>\n",
              "      <th>9</th>\n",
              "      <td>Australia</td>\n",
              "      <td>2008</td>\n",
              "      <td>537031.991695</td>\n",
              "    </tr>\n",
              "  </tbody>\n",
              "</table>\n",
              "</div>"
            ],
            "text/plain": [
              "  Country or Area  Year          Value\n",
              "0       Australia  2017  554126.561371\n",
              "1       Australia  2016  546771.759767\n",
              "2       Australia  2015  535173.674335\n",
              "3       Australia  2014  524957.101167\n",
              "4       Australia  2013  530433.518839\n",
              "5       Australia  2012  540615.864772\n",
              "6       Australia  2011  538280.611349\n",
              "7       Australia  2010  537275.249361\n",
              "8       Australia  2009  540913.370344\n",
              "9       Australia  2008  537031.991695"
            ]
          },
          "metadata": {
            "tags": []
          },
          "execution_count": 11
        }
      ]
    },
    {
      "cell_type": "markdown",
      "metadata": {
        "id": "8fhPovMIESge"
      },
      "source": [
        "**Print its last 10 rows***"
      ]
    },
    {
      "cell_type": "code",
      "metadata": {
        "colab": {
          "base_uri": "https://localhost:8080/",
          "height": 359
        },
        "id": "Ucnv2fK-EfuK",
        "outputId": "b9178e30-95c8-40aa-afd5-73f66c55ac96"
      },
      "source": [
        "greenhouse_data.tail(10)"
      ],
      "execution_count": 12,
      "outputs": [
        {
          "output_type": "execute_result",
          "data": {
            "text/html": [
              "<div>\n",
              "<style scoped>\n",
              "    .dataframe tbody tr th:only-of-type {\n",
              "        vertical-align: middle;\n",
              "    }\n",
              "\n",
              "    .dataframe tbody tr th {\n",
              "        vertical-align: top;\n",
              "    }\n",
              "\n",
              "    .dataframe thead th {\n",
              "        text-align: right;\n",
              "    }\n",
              "</style>\n",
              "<table border=\"1\" class=\"dataframe\">\n",
              "  <thead>\n",
              "    <tr style=\"text-align: right;\">\n",
              "      <th></th>\n",
              "      <th>Country or Area</th>\n",
              "      <th>Year</th>\n",
              "      <th>Value</th>\n",
              "    </tr>\n",
              "  </thead>\n",
              "  <tbody>\n",
              "    <tr>\n",
              "      <th>1194</th>\n",
              "      <td>United States of America</td>\n",
              "      <td>1999</td>\n",
              "      <td>7.071461e+06</td>\n",
              "    </tr>\n",
              "    <tr>\n",
              "      <th>1195</th>\n",
              "      <td>United States of America</td>\n",
              "      <td>1998</td>\n",
              "      <td>7.032526e+06</td>\n",
              "    </tr>\n",
              "    <tr>\n",
              "      <th>1196</th>\n",
              "      <td>United States of America</td>\n",
              "      <td>1997</td>\n",
              "      <td>6.968462e+06</td>\n",
              "    </tr>\n",
              "    <tr>\n",
              "      <th>1197</th>\n",
              "      <td>United States of America</td>\n",
              "      <td>1996</td>\n",
              "      <td>6.907699e+06</td>\n",
              "    </tr>\n",
              "    <tr>\n",
              "      <th>1198</th>\n",
              "      <td>United States of America</td>\n",
              "      <td>1995</td>\n",
              "      <td>6.710067e+06</td>\n",
              "    </tr>\n",
              "    <tr>\n",
              "      <th>1199</th>\n",
              "      <td>United States of America</td>\n",
              "      <td>1994</td>\n",
              "      <td>6.624836e+06</td>\n",
              "    </tr>\n",
              "    <tr>\n",
              "      <th>1200</th>\n",
              "      <td>United States of America</td>\n",
              "      <td>1993</td>\n",
              "      <td>6.532070e+06</td>\n",
              "    </tr>\n",
              "    <tr>\n",
              "      <th>1201</th>\n",
              "      <td>United States of America</td>\n",
              "      <td>1992</td>\n",
              "      <td>6.424934e+06</td>\n",
              "    </tr>\n",
              "    <tr>\n",
              "      <th>1202</th>\n",
              "      <td>United States of America</td>\n",
              "      <td>1991</td>\n",
              "      <td>6.315615e+06</td>\n",
              "    </tr>\n",
              "    <tr>\n",
              "      <th>1203</th>\n",
              "      <td>United States of America</td>\n",
              "      <td>1990</td>\n",
              "      <td>6.371001e+06</td>\n",
              "    </tr>\n",
              "  </tbody>\n",
              "</table>\n",
              "</div>"
            ],
            "text/plain": [
              "               Country or Area  Year         Value\n",
              "1194  United States of America  1999  7.071461e+06\n",
              "1195  United States of America  1998  7.032526e+06\n",
              "1196  United States of America  1997  6.968462e+06\n",
              "1197  United States of America  1996  6.907699e+06\n",
              "1198  United States of America  1995  6.710067e+06\n",
              "1199  United States of America  1994  6.624836e+06\n",
              "1200  United States of America  1993  6.532070e+06\n",
              "1201  United States of America  1992  6.424934e+06\n",
              "1202  United States of America  1991  6.315615e+06\n",
              "1203  United States of America  1990  6.371001e+06"
            ]
          },
          "metadata": {
            "tags": []
          },
          "execution_count": 12
        }
      ]
    },
    {
      "cell_type": "markdown",
      "metadata": {
        "id": "H8xEvYD0EraC"
      },
      "source": [
        "**Check if there are any null values**"
      ]
    },
    {
      "cell_type": "code",
      "metadata": {
        "colab": {
          "base_uri": "https://localhost:8080/",
          "height": 419
        },
        "id": "vWVFNsvLEwdM",
        "outputId": "a98a3cd6-9ef9-43f6-c754-07889bfa4057"
      },
      "source": [
        "greenhouse_data.isnull()"
      ],
      "execution_count": 14,
      "outputs": [
        {
          "output_type": "execute_result",
          "data": {
            "text/html": [
              "<div>\n",
              "<style scoped>\n",
              "    .dataframe tbody tr th:only-of-type {\n",
              "        vertical-align: middle;\n",
              "    }\n",
              "\n",
              "    .dataframe tbody tr th {\n",
              "        vertical-align: top;\n",
              "    }\n",
              "\n",
              "    .dataframe thead th {\n",
              "        text-align: right;\n",
              "    }\n",
              "</style>\n",
              "<table border=\"1\" class=\"dataframe\">\n",
              "  <thead>\n",
              "    <tr style=\"text-align: right;\">\n",
              "      <th></th>\n",
              "      <th>Country or Area</th>\n",
              "      <th>Year</th>\n",
              "      <th>Value</th>\n",
              "    </tr>\n",
              "  </thead>\n",
              "  <tbody>\n",
              "    <tr>\n",
              "      <th>0</th>\n",
              "      <td>False</td>\n",
              "      <td>False</td>\n",
              "      <td>False</td>\n",
              "    </tr>\n",
              "    <tr>\n",
              "      <th>1</th>\n",
              "      <td>False</td>\n",
              "      <td>False</td>\n",
              "      <td>False</td>\n",
              "    </tr>\n",
              "    <tr>\n",
              "      <th>2</th>\n",
              "      <td>False</td>\n",
              "      <td>False</td>\n",
              "      <td>False</td>\n",
              "    </tr>\n",
              "    <tr>\n",
              "      <th>3</th>\n",
              "      <td>False</td>\n",
              "      <td>False</td>\n",
              "      <td>False</td>\n",
              "    </tr>\n",
              "    <tr>\n",
              "      <th>4</th>\n",
              "      <td>False</td>\n",
              "      <td>False</td>\n",
              "      <td>False</td>\n",
              "    </tr>\n",
              "    <tr>\n",
              "      <th>...</th>\n",
              "      <td>...</td>\n",
              "      <td>...</td>\n",
              "      <td>...</td>\n",
              "    </tr>\n",
              "    <tr>\n",
              "      <th>1199</th>\n",
              "      <td>False</td>\n",
              "      <td>False</td>\n",
              "      <td>False</td>\n",
              "    </tr>\n",
              "    <tr>\n",
              "      <th>1200</th>\n",
              "      <td>False</td>\n",
              "      <td>False</td>\n",
              "      <td>False</td>\n",
              "    </tr>\n",
              "    <tr>\n",
              "      <th>1201</th>\n",
              "      <td>False</td>\n",
              "      <td>False</td>\n",
              "      <td>False</td>\n",
              "    </tr>\n",
              "    <tr>\n",
              "      <th>1202</th>\n",
              "      <td>False</td>\n",
              "      <td>False</td>\n",
              "      <td>False</td>\n",
              "    </tr>\n",
              "    <tr>\n",
              "      <th>1203</th>\n",
              "      <td>False</td>\n",
              "      <td>False</td>\n",
              "      <td>False</td>\n",
              "    </tr>\n",
              "  </tbody>\n",
              "</table>\n",
              "<p>1204 rows × 3 columns</p>\n",
              "</div>"
            ],
            "text/plain": [
              "      Country or Area   Year  Value\n",
              "0               False  False  False\n",
              "1               False  False  False\n",
              "2               False  False  False\n",
              "3               False  False  False\n",
              "4               False  False  False\n",
              "...               ...    ...    ...\n",
              "1199            False  False  False\n",
              "1200            False  False  False\n",
              "1201            False  False  False\n",
              "1202            False  False  False\n",
              "1203            False  False  False\n",
              "\n",
              "[1204 rows x 3 columns]"
            ]
          },
          "metadata": {
            "tags": []
          },
          "execution_count": 14
        }
      ]
    },
    {
      "cell_type": "markdown",
      "metadata": {
        "id": "Aqw9wSDWH--b"
      },
      "source": [
        "**Store the DataFrame to a CSV file named ‘file2.csv’**"
      ]
    },
    {
      "cell_type": "code",
      "metadata": {
        "id": "ntaxFu8gICtX"
      },
      "source": [
        "greenhouse_data.to_csv('file2.csv')"
      ],
      "execution_count": 16,
      "outputs": []
    },
    {
      "cell_type": "code",
      "metadata": {
        "id": "bvA6R7dhIbSF"
      },
      "source": [
        ""
      ],
      "execution_count": null,
      "outputs": []
    }
  ]
}